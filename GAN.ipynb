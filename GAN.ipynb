{
  "nbformat": 4,
  "nbformat_minor": 0,
  "metadata": {
    "colab": {
      "provenance": [],
      "toc_visible": true
    },
    "kernelspec": {
      "name": "python3",
      "display_name": "Python 3"
    },
    "language_info": {
      "name": "python"
    },
    "accelerator": "GPU",
    "gpuClass": "standard"
  },
  "cells": [
    {
      "cell_type": "code",
      "execution_count": null,
      "metadata": {
        "id": "MP6JoxLRGYBv"
      },
      "outputs": [],
      "source": [
        "import tensorflow as tf\n",
        "from tensorflow.keras import layers, regularizers\n",
        "# from torch_two_sample.statistics_diff import MMDStatistic\n",
        "import torch\n",
        "\n",
        "import matplotlib.pyplot as plt\n",
        "import numpy as np\n",
        "import random\n",
        "import pandas as pd\n",
        "from IPython import display\n",
        "from tqdm import tqdm\n",
        "from shutil import copyfile\n"
      ]
    },
    {
      "cell_type": "markdown",
      "source": [
        "## **Data preprocessing**"
      ],
      "metadata": {
        "id": "omz-h_v90HPr"
      }
    },
    {
      "cell_type": "code",
      "source": [
        "df = pd.read_csv('http://storage.googleapis.com/download.tensorflow.org/data/ecg.csv', header=None)\n",
        "df.head()"
      ],
      "metadata": {
        "colab": {
          "base_uri": "https://localhost:8080/",
          "height": 299
        },
        "id": "daMVmhw1r4C7",
        "outputId": "340ecfc1-53aa-4828-aef6-7dd57a5cafe4"
      },
      "execution_count": null,
      "outputs": [
        {
          "output_type": "execute_result",
          "data": {
            "text/plain": [
              "        0         1         2         3         4         5         6    \\\n",
              "0 -0.112522 -2.827204 -3.773897 -4.349751 -4.376041 -3.474986 -2.181408   \n",
              "1 -1.100878 -3.996840 -4.285843 -4.506579 -4.022377 -3.234368 -1.566126   \n",
              "2 -0.567088 -2.593450 -3.874230 -4.584095 -4.187449 -3.151462 -1.742940   \n",
              "3  0.490473 -1.914407 -3.616364 -4.318823 -4.268016 -3.881110 -2.993280   \n",
              "4  0.800232 -0.874252 -2.384761 -3.973292 -4.338224 -3.802422 -2.534510   \n",
              "\n",
              "        7         8         9    ...       131       132       133       134  \\\n",
              "0 -1.818286 -1.250522 -0.477492  ...  0.792168  0.933541  0.796958  0.578621   \n",
              "1 -0.992258 -0.754680  0.042321  ...  0.538356  0.656881  0.787490  0.724046   \n",
              "2 -1.490659 -1.183580 -0.394229  ...  0.886073  0.531452  0.311377 -0.021919   \n",
              "3 -1.671131 -1.333884 -0.965629  ...  0.350816  0.499111  0.600345  0.842069   \n",
              "4 -1.783423 -1.594450 -0.753199  ...  1.148884  0.958434  1.059025  1.371682   \n",
              "\n",
              "        135       136       137       138       139  140  \n",
              "0  0.257740  0.228077  0.123431  0.925286  0.193137  1.0  \n",
              "1  0.555784  0.476333  0.773820  1.119621 -1.436250  1.0  \n",
              "2 -0.713683 -0.532197  0.321097  0.904227 -0.421797  1.0  \n",
              "3  0.952074  0.990133  1.086798  1.403011 -0.383564  1.0  \n",
              "4  1.277392  0.960304  0.971020  1.614392  1.421456  1.0  \n",
              "\n",
              "[5 rows x 141 columns]"
            ],
            "text/html": [
              "\n",
              "  <div id=\"df-7ac41f3c-f919-48d1-8745-f3e2b450c8a8\">\n",
              "    <div class=\"colab-df-container\">\n",
              "      <div>\n",
              "<style scoped>\n",
              "    .dataframe tbody tr th:only-of-type {\n",
              "        vertical-align: middle;\n",
              "    }\n",
              "\n",
              "    .dataframe tbody tr th {\n",
              "        vertical-align: top;\n",
              "    }\n",
              "\n",
              "    .dataframe thead th {\n",
              "        text-align: right;\n",
              "    }\n",
              "</style>\n",
              "<table border=\"1\" class=\"dataframe\">\n",
              "  <thead>\n",
              "    <tr style=\"text-align: right;\">\n",
              "      <th></th>\n",
              "      <th>0</th>\n",
              "      <th>1</th>\n",
              "      <th>2</th>\n",
              "      <th>3</th>\n",
              "      <th>4</th>\n",
              "      <th>5</th>\n",
              "      <th>6</th>\n",
              "      <th>7</th>\n",
              "      <th>8</th>\n",
              "      <th>9</th>\n",
              "      <th>...</th>\n",
              "      <th>131</th>\n",
              "      <th>132</th>\n",
              "      <th>133</th>\n",
              "      <th>134</th>\n",
              "      <th>135</th>\n",
              "      <th>136</th>\n",
              "      <th>137</th>\n",
              "      <th>138</th>\n",
              "      <th>139</th>\n",
              "      <th>140</th>\n",
              "    </tr>\n",
              "  </thead>\n",
              "  <tbody>\n",
              "    <tr>\n",
              "      <th>0</th>\n",
              "      <td>-0.112522</td>\n",
              "      <td>-2.827204</td>\n",
              "      <td>-3.773897</td>\n",
              "      <td>-4.349751</td>\n",
              "      <td>-4.376041</td>\n",
              "      <td>-3.474986</td>\n",
              "      <td>-2.181408</td>\n",
              "      <td>-1.818286</td>\n",
              "      <td>-1.250522</td>\n",
              "      <td>-0.477492</td>\n",
              "      <td>...</td>\n",
              "      <td>0.792168</td>\n",
              "      <td>0.933541</td>\n",
              "      <td>0.796958</td>\n",
              "      <td>0.578621</td>\n",
              "      <td>0.257740</td>\n",
              "      <td>0.228077</td>\n",
              "      <td>0.123431</td>\n",
              "      <td>0.925286</td>\n",
              "      <td>0.193137</td>\n",
              "      <td>1.0</td>\n",
              "    </tr>\n",
              "    <tr>\n",
              "      <th>1</th>\n",
              "      <td>-1.100878</td>\n",
              "      <td>-3.996840</td>\n",
              "      <td>-4.285843</td>\n",
              "      <td>-4.506579</td>\n",
              "      <td>-4.022377</td>\n",
              "      <td>-3.234368</td>\n",
              "      <td>-1.566126</td>\n",
              "      <td>-0.992258</td>\n",
              "      <td>-0.754680</td>\n",
              "      <td>0.042321</td>\n",
              "      <td>...</td>\n",
              "      <td>0.538356</td>\n",
              "      <td>0.656881</td>\n",
              "      <td>0.787490</td>\n",
              "      <td>0.724046</td>\n",
              "      <td>0.555784</td>\n",
              "      <td>0.476333</td>\n",
              "      <td>0.773820</td>\n",
              "      <td>1.119621</td>\n",
              "      <td>-1.436250</td>\n",
              "      <td>1.0</td>\n",
              "    </tr>\n",
              "    <tr>\n",
              "      <th>2</th>\n",
              "      <td>-0.567088</td>\n",
              "      <td>-2.593450</td>\n",
              "      <td>-3.874230</td>\n",
              "      <td>-4.584095</td>\n",
              "      <td>-4.187449</td>\n",
              "      <td>-3.151462</td>\n",
              "      <td>-1.742940</td>\n",
              "      <td>-1.490659</td>\n",
              "      <td>-1.183580</td>\n",
              "      <td>-0.394229</td>\n",
              "      <td>...</td>\n",
              "      <td>0.886073</td>\n",
              "      <td>0.531452</td>\n",
              "      <td>0.311377</td>\n",
              "      <td>-0.021919</td>\n",
              "      <td>-0.713683</td>\n",
              "      <td>-0.532197</td>\n",
              "      <td>0.321097</td>\n",
              "      <td>0.904227</td>\n",
              "      <td>-0.421797</td>\n",
              "      <td>1.0</td>\n",
              "    </tr>\n",
              "    <tr>\n",
              "      <th>3</th>\n",
              "      <td>0.490473</td>\n",
              "      <td>-1.914407</td>\n",
              "      <td>-3.616364</td>\n",
              "      <td>-4.318823</td>\n",
              "      <td>-4.268016</td>\n",
              "      <td>-3.881110</td>\n",
              "      <td>-2.993280</td>\n",
              "      <td>-1.671131</td>\n",
              "      <td>-1.333884</td>\n",
              "      <td>-0.965629</td>\n",
              "      <td>...</td>\n",
              "      <td>0.350816</td>\n",
              "      <td>0.499111</td>\n",
              "      <td>0.600345</td>\n",
              "      <td>0.842069</td>\n",
              "      <td>0.952074</td>\n",
              "      <td>0.990133</td>\n",
              "      <td>1.086798</td>\n",
              "      <td>1.403011</td>\n",
              "      <td>-0.383564</td>\n",
              "      <td>1.0</td>\n",
              "    </tr>\n",
              "    <tr>\n",
              "      <th>4</th>\n",
              "      <td>0.800232</td>\n",
              "      <td>-0.874252</td>\n",
              "      <td>-2.384761</td>\n",
              "      <td>-3.973292</td>\n",
              "      <td>-4.338224</td>\n",
              "      <td>-3.802422</td>\n",
              "      <td>-2.534510</td>\n",
              "      <td>-1.783423</td>\n",
              "      <td>-1.594450</td>\n",
              "      <td>-0.753199</td>\n",
              "      <td>...</td>\n",
              "      <td>1.148884</td>\n",
              "      <td>0.958434</td>\n",
              "      <td>1.059025</td>\n",
              "      <td>1.371682</td>\n",
              "      <td>1.277392</td>\n",
              "      <td>0.960304</td>\n",
              "      <td>0.971020</td>\n",
              "      <td>1.614392</td>\n",
              "      <td>1.421456</td>\n",
              "      <td>1.0</td>\n",
              "    </tr>\n",
              "  </tbody>\n",
              "</table>\n",
              "<p>5 rows × 141 columns</p>\n",
              "</div>\n",
              "      <button class=\"colab-df-convert\" onclick=\"convertToInteractive('df-7ac41f3c-f919-48d1-8745-f3e2b450c8a8')\"\n",
              "              title=\"Convert this dataframe to an interactive table.\"\n",
              "              style=\"display:none;\">\n",
              "        \n",
              "  <svg xmlns=\"http://www.w3.org/2000/svg\" height=\"24px\"viewBox=\"0 0 24 24\"\n",
              "       width=\"24px\">\n",
              "    <path d=\"M0 0h24v24H0V0z\" fill=\"none\"/>\n",
              "    <path d=\"M18.56 5.44l.94 2.06.94-2.06 2.06-.94-2.06-.94-.94-2.06-.94 2.06-2.06.94zm-11 1L8.5 8.5l.94-2.06 2.06-.94-2.06-.94L8.5 2.5l-.94 2.06-2.06.94zm10 10l.94 2.06.94-2.06 2.06-.94-2.06-.94-.94-2.06-.94 2.06-2.06.94z\"/><path d=\"M17.41 7.96l-1.37-1.37c-.4-.4-.92-.59-1.43-.59-.52 0-1.04.2-1.43.59L10.3 9.45l-7.72 7.72c-.78.78-.78 2.05 0 2.83L4 21.41c.39.39.9.59 1.41.59.51 0 1.02-.2 1.41-.59l7.78-7.78 2.81-2.81c.8-.78.8-2.07 0-2.86zM5.41 20L4 18.59l7.72-7.72 1.47 1.35L5.41 20z\"/>\n",
              "  </svg>\n",
              "      </button>\n",
              "      \n",
              "  <style>\n",
              "    .colab-df-container {\n",
              "      display:flex;\n",
              "      flex-wrap:wrap;\n",
              "      gap: 12px;\n",
              "    }\n",
              "\n",
              "    .colab-df-convert {\n",
              "      background-color: #E8F0FE;\n",
              "      border: none;\n",
              "      border-radius: 50%;\n",
              "      cursor: pointer;\n",
              "      display: none;\n",
              "      fill: #1967D2;\n",
              "      height: 32px;\n",
              "      padding: 0 0 0 0;\n",
              "      width: 32px;\n",
              "    }\n",
              "\n",
              "    .colab-df-convert:hover {\n",
              "      background-color: #E2EBFA;\n",
              "      box-shadow: 0px 1px 2px rgba(60, 64, 67, 0.3), 0px 1px 3px 1px rgba(60, 64, 67, 0.15);\n",
              "      fill: #174EA6;\n",
              "    }\n",
              "\n",
              "    [theme=dark] .colab-df-convert {\n",
              "      background-color: #3B4455;\n",
              "      fill: #D2E3FC;\n",
              "    }\n",
              "\n",
              "    [theme=dark] .colab-df-convert:hover {\n",
              "      background-color: #434B5C;\n",
              "      box-shadow: 0px 1px 3px 1px rgba(0, 0, 0, 0.15);\n",
              "      filter: drop-shadow(0px 1px 2px rgba(0, 0, 0, 0.3));\n",
              "      fill: #FFFFFF;\n",
              "    }\n",
              "  </style>\n",
              "\n",
              "      <script>\n",
              "        const buttonEl =\n",
              "          document.querySelector('#df-7ac41f3c-f919-48d1-8745-f3e2b450c8a8 button.colab-df-convert');\n",
              "        buttonEl.style.display =\n",
              "          google.colab.kernel.accessAllowed ? 'block' : 'none';\n",
              "\n",
              "        async function convertToInteractive(key) {\n",
              "          const element = document.querySelector('#df-7ac41f3c-f919-48d1-8745-f3e2b450c8a8');\n",
              "          const dataTable =\n",
              "            await google.colab.kernel.invokeFunction('convertToInteractive',\n",
              "                                                     [key], {});\n",
              "          if (!dataTable) return;\n",
              "\n",
              "          const docLinkHtml = 'Like what you see? Visit the ' +\n",
              "            '<a target=\"_blank\" href=https://colab.research.google.com/notebooks/data_table.ipynb>data table notebook</a>'\n",
              "            + ' to learn more about interactive tables.';\n",
              "          element.innerHTML = '';\n",
              "          dataTable['output_type'] = 'display_data';\n",
              "          await google.colab.output.renderOutput(dataTable, element);\n",
              "          const docLink = document.createElement('div');\n",
              "          docLink.innerHTML = docLinkHtml;\n",
              "          element.appendChild(docLink);\n",
              "        }\n",
              "      </script>\n",
              "    </div>\n",
              "  </div>\n",
              "  "
            ]
          },
          "metadata": {},
          "execution_count": 2
        }
      ]
    },
    {
      "cell_type": "code",
      "source": [
        "plt.plot(df.iloc[45])"
      ],
      "metadata": {
        "colab": {
          "base_uri": "https://localhost:8080/",
          "height": 447
        },
        "id": "Chts9WlPr_Qg",
        "outputId": "19667442-9ddc-4359-c6a3-8f95e8bac03c"
      },
      "execution_count": null,
      "outputs": [
        {
          "output_type": "execute_result",
          "data": {
            "text/plain": [
              "[<matplotlib.lines.Line2D at 0x7fe4def927a0>]"
            ]
          },
          "metadata": {},
          "execution_count": 3
        },
        {
          "output_type": "display_data",
          "data": {
            "text/plain": [
              "<Figure size 640x480 with 1 Axes>"
            ],
            "image/png": "[encoded data removed]"
          },
          "metadata": {}
        }
      ]
    },
    {
      "cell_type": "code",
      "source": [
        "df.info()"
      ],
      "metadata": {
        "colab": {
          "base_uri": "https://localhost:8080/"
        },
        "id": "XhaTHGiAsQJ6",
        "outputId": "03173387-3df3-4705-c544-f03f6281d203"
      },
      "execution_count": null,
      "outputs": [
        {
          "output_type": "stream",
          "name": "stdout",
          "text": [
            "<class 'pandas.core.frame.DataFrame'>\n",
            "RangeIndex: 4998 entries, 0 to 4997\n",
            "Columns: 141 entries, 0 to 140\n",
            "dtypes: float64(141)\n",
            "memory usage: 5.4 MB\n"
          ]
        }
      ]
    },
    {
      "cell_type": "code",
      "source": [
        "(df.count()!= 4998).unique()"
      ],
      "metadata": {
        "colab": {
          "base_uri": "https://localhost:8080/"
        },
        "id": "nC_bdkr5sYsU",
        "outputId": "cd11ade1-c7e1-4e4c-c5af-96e4da501dbb"
      },
      "execution_count": null,
      "outputs": [
        {
          "output_type": "execute_result",
          "data": {
            "text/plain": [
              "array([False])"
            ]
          },
          "metadata": {},
          "execution_count": 5
        }
      ]
    },
    {
      "cell_type": "code",
      "source": [
        "df.describe()"
      ],
      "metadata": {
        "colab": {
          "base_uri": "https://localhost:8080/",
          "height": 393
        },
        "id": "OjiLlnXHsbHh",
        "outputId": "f83b77c1-508f-4373-e367-9f926b8bef1e"
      },
      "execution_count": null,
      "outputs": [
        {
          "output_type": "execute_result",
          "data": {
            "text/plain": [
              "               0            1            2            3            4    \\\n",
              "count  4998.000000  4998.000000  4998.000000  4998.000000  4998.000000   \n",
              "mean     -0.262502    -1.649828    -2.492623    -3.119754    -3.167656   \n",
              "std       1.152450     1.445542     1.386457     1.302921     1.104535   \n",
              "min      -6.729499    -7.090374    -5.132459    -5.363241    -5.375715   \n",
              "25%      -1.004220    -2.701936    -3.668585    -4.227337    -4.007630   \n",
              "50%      -0.297541    -1.661892    -2.586129    -3.388210    -3.469899   \n",
              "75%       0.499909    -0.677998    -1.514187    -2.235690    -2.531153   \n",
              "max       4.966414     3.479689     2.660597     1.899798     2.147015   \n",
              "\n",
              "               5            6            7            8            9    ...  \\\n",
              "count  4998.000000  4998.000000  4998.000000  4998.000000  4998.000000  ...   \n",
              "mean     -2.866306    -2.272845    -1.797754    -1.409784    -0.935806  ...   \n",
              "std       0.906312     0.731594     0.622794     0.636863     0.657788  ...   \n",
              "min      -5.330194    -4.782240    -4.311288    -4.071361    -4.142476  ...   \n",
              "25%      -3.480666    -2.779832    -2.165808    -1.773870    -1.362003  ...   \n",
              "50%      -2.947061    -2.285427    -1.750084    -1.422457    -0.910384  ...   \n",
              "75%      -2.398797    -1.823480    -1.484107    -1.063592    -0.476477  ...   \n",
              "max       1.614375     1.868728     1.804251     1.683730     1.898627  ...   \n",
              "\n",
              "               131          132          133          134          135  \\\n",
              "count  4998.000000  4998.000000  4998.000000  4998.000000  4998.000000   \n",
              "mean      0.071312    -0.062622    -0.276086    -0.507750    -0.761323   \n",
              "std       1.404425     1.646105     1.894515     2.059366     2.086130   \n",
              "min      -4.167040    -4.557576    -4.530488    -4.563270    -5.150100   \n",
              "25%      -1.087720    -1.588237    -2.146835    -2.730750    -3.031224   \n",
              "50%       0.658318     0.717808     0.604747     0.334857    -0.030767   \n",
              "75%       1.169392     1.238651     1.264379     1.234408     1.033957   \n",
              "max       3.007606     2.854680     2.912394     2.937685     3.351437   \n",
              "\n",
              "               136          137          138          139          140  \n",
              "count  4998.000000  4998.000000  4998.000000  4998.000000  4998.000000  \n",
              "mean     -0.835173    -0.642739    -0.487667    -0.706574     0.584034  \n",
              "std       2.056296     1.859409     1.831088     1.414414     0.492937  \n",
              "min      -4.880460    -5.496107    -5.880890    -6.092227     0.000000  \n",
              "25%      -2.868603    -2.154560    -1.658289    -1.596809     0.000000  \n",
              "50%      -0.195151    -0.194423    -0.160262    -0.568443     1.000000  \n",
              "75%       0.945027     0.951621     1.002628     0.271635     1.000000  \n",
              "max       3.432519     3.579448     4.425976     7.402103     1.000000  \n",
              "\n",
              "[8 rows x 141 columns]"
            ],
            "text/html": [
              "\n",
              "  <div id=\"df-be3d8832-4230-413e-a0ff-fea835308634\">\n",
              "    <div class=\"colab-df-container\">\n",
              "      <div>\n",
              "<style scoped>\n",
              "    .dataframe tbody tr th:only-of-type {\n",
              "        vertical-align: middle;\n",
              "    }\n",
              "\n",
              "    .dataframe tbody tr th {\n",
              "        vertical-align: top;\n",
              "    }\n",
              "\n",
              "    .dataframe thead th {\n",
              "        text-align: right;\n",
              "    }\n",
              "</style>\n",
              "<table border=\"1\" class=\"dataframe\">\n",
              "  <thead>\n",
              "    <tr style=\"text-align: right;\">\n",
              "      <th></th>\n",
              "      <th>0</th>\n",
              "      <th>1</th>\n",
              "      <th>2</th>\n",
              "      <th>3</th>\n",
              "      <th>4</th>\n",
              "      <th>5</th>\n",
              "      <th>6</th>\n",
              "      <th>7</th>\n",
              "      <th>8</th>\n",
              "      <th>9</th>\n",
              "      <th>...</th>\n",
              "      <th>131</th>\n",
              "      <th>132</th>\n",
              "      <th>133</th>\n",
              "      <th>134</th>\n",
              "      <th>135</th>\n",
              "      <th>136</th>\n",
              "      <th>137</th>\n",
              "      <th>138</th>\n",
              "      <th>139</th>\n",
              "      <th>140</th>\n",
              "    </tr>\n",
              "  </thead>\n",
              "  <tbody>\n",
              "    <tr>\n",
              "      <th>count</th>\n",
              "      <td>4998.000000</td>\n",
              "      <td>4998.000000</td>\n",
              "      <td>4998.000000</td>\n",
              "      <td>4998.000000</td>\n",
              "      <td>4998.000000</td>\n",
              "      <td>4998.000000</td>\n",
              "      <td>4998.000000</td>\n",
              "      <td>4998.000000</td>\n",
              "      <td>4998.000000</td>\n",
              "      <td>4998.000000</td>\n",
              "      <td>...</td>\n",
              "      <td>4998.000000</td>\n",
              "      <td>4998.000000</td>\n",
              "      <td>4998.000000</td>\n",
              "      <td>4998.000000</td>\n",
              "      <td>4998.000000</td>\n",
              "      <td>4998.000000</td>\n",
              "      <td>4998.000000</td>\n",
              "      <td>4998.000000</td>\n",
              "      <td>4998.000000</td>\n",
              "      <td>4998.000000</td>\n",
              "    </tr>\n",
              "    <tr>\n",
              "      <th>mean</th>\n",
              "      <td>-0.262502</td>\n",
              "      <td>-1.649828</td>\n",
              "      <td>-2.492623</td>\n",
              "      <td>-3.119754</td>\n",
              "      <td>-3.167656</td>\n",
              "      <td>-2.866306</td>\n",
              "      <td>-2.272845</td>\n",
              "      <td>-1.797754</td>\n",
              "      <td>-1.409784</td>\n",
              "      <td>-0.935806</td>\n",
              "      <td>...</td>\n",
              "      <td>0.071312</td>\n",
              "      <td>-0.062622</td>\n",
              "      <td>-0.276086</td>\n",
              "      <td>-0.507750</td>\n",
              "      <td>-0.761323</td>\n",
              "      <td>-0.835173</td>\n",
              "      <td>-0.642739</td>\n",
              "      <td>-0.487667</td>\n",
              "      <td>-0.706574</td>\n",
              "      <td>0.584034</td>\n",
              "    </tr>\n",
              "    <tr>\n",
              "      <th>std</th>\n",
              "      <td>1.152450</td>\n",
              "      <td>1.445542</td>\n",
              "      <td>1.386457</td>\n",
              "      <td>1.302921</td>\n",
              "      <td>1.104535</td>\n",
              "      <td>0.906312</td>\n",
              "      <td>0.731594</td>\n",
              "      <td>0.622794</td>\n",
              "      <td>0.636863</td>\n",
              "      <td>0.657788</td>\n",
              "      <td>...</td>\n",
              "      <td>1.404425</td>\n",
              "      <td>1.646105</td>\n",
              "      <td>1.894515</td>\n",
              "      <td>2.059366</td>\n",
              "      <td>2.086130</td>\n",
              "      <td>2.056296</td>\n",
              "      <td>1.859409</td>\n",
              "      <td>1.831088</td>\n",
              "      <td>1.414414</td>\n",
              "      <td>0.492937</td>\n",
              "    </tr>\n",
              "    <tr>\n",
              "      <th>min</th>\n",
              "      <td>-6.729499</td>\n",
              "      <td>-7.090374</td>\n",
              "      <td>-5.132459</td>\n",
              "      <td>-5.363241</td>\n",
              "      <td>-5.375715</td>\n",
              "      <td>-5.330194</td>\n",
              "      <td>-4.782240</td>\n",
              "      <td>-4.311288</td>\n",
              "      <td>-4.071361</td>\n",
              "      <td>-4.142476</td>\n",
              "      <td>...</td>\n",
              "      <td>-4.167040</td>\n",
              "      <td>-4.557576</td>\n",
              "      <td>-4.530488</td>\n",
              "      <td>-4.563270</td>\n",
              "      <td>-5.150100</td>\n",
              "      <td>-4.880460</td>\n",
              "      <td>-5.496107</td>\n",
              "      <td>-5.880890</td>\n",
              "      <td>-6.092227</td>\n",
              "      <td>0.000000</td>\n",
              "    </tr>\n",
              "    <tr>\n",
              "      <th>25%</th>\n",
              "      <td>-1.004220</td>\n",
              "      <td>-2.701936</td>\n",
              "      <td>-3.668585</td>\n",
              "      <td>-4.227337</td>\n",
              "      <td>-4.007630</td>\n",
              "      <td>-3.480666</td>\n",
              "      <td>-2.779832</td>\n",
              "      <td>-2.165808</td>\n",
              "      <td>-1.773870</td>\n",
              "      <td>-1.362003</td>\n",
              "      <td>...</td>\n",
              "      <td>-1.087720</td>\n",
              "      <td>-1.588237</td>\n",
              "      <td>-2.146835</td>\n",
              "      <td>-2.730750</td>\n",
              "      <td>-3.031224</td>\n",
              "      <td>-2.868603</td>\n",
              "      <td>-2.154560</td>\n",
              "      <td>-1.658289</td>\n",
              "      <td>-1.596809</td>\n",
              "      <td>0.000000</td>\n",
              "    </tr>\n",
              "    <tr>\n",
              "      <th>50%</th>\n",
              "      <td>-0.297541</td>\n",
              "      <td>-1.661892</td>\n",
              "      <td>-2.586129</td>\n",
              "      <td>-3.388210</td>\n",
              "      <td>-3.469899</td>\n",
              "      <td>-2.947061</td>\n",
              "      <td>-2.285427</td>\n",
              "      <td>-1.750084</td>\n",
              "      <td>-1.422457</td>\n",
              "      <td>-0.910384</td>\n",
              "      <td>...</td>\n",
              "      <td>0.658318</td>\n",
              "      <td>0.717808</td>\n",
              "      <td>0.604747</td>\n",
              "      <td>0.334857</td>\n",
              "      <td>-0.030767</td>\n",
              "      <td>-0.195151</td>\n",
              "      <td>-0.194423</td>\n",
              "      <td>-0.160262</td>\n",
              "      <td>-0.568443</td>\n",
              "      <td>1.000000</td>\n",
              "    </tr>\n",
              "    <tr>\n",
              "      <th>75%</th>\n",
              "      <td>0.499909</td>\n",
              "      <td>-0.677998</td>\n",
              "      <td>-1.514187</td>\n",
              "      <td>-2.235690</td>\n",
              "      <td>-2.531153</td>\n",
              "      <td>-2.398797</td>\n",
              "      <td>-1.823480</td>\n",
              "      <td>-1.484107</td>\n",
              "      <td>-1.063592</td>\n",
              "      <td>-0.476477</td>\n",
              "      <td>...</td>\n",
              "      <td>1.169392</td>\n",
              "      <td>1.238651</td>\n",
              "      <td>1.264379</td>\n",
              "      <td>1.234408</td>\n",
              "      <td>1.033957</td>\n",
              "      <td>0.945027</td>\n",
              "      <td>0.951621</td>\n",
              "      <td>1.002628</td>\n",
              "      <td>0.271635</td>\n",
              "      <td>1.000000</td>\n",
              "    </tr>\n",
              "    <tr>\n",
              "      <th>max</th>\n",
              "      <td>4.966414</td>\n",
              "      <td>3.479689</td>\n",
              "      <td>2.660597</td>\n",
              "      <td>1.899798</td>\n",
              "      <td>2.147015</td>\n",
              "      <td>1.614375</td>\n",
              "      <td>1.868728</td>\n",
              "      <td>1.804251</td>\n",
              "      <td>1.683730</td>\n",
              "      <td>1.898627</td>\n",
              "      <td>...</td>\n",
              "      <td>3.007606</td>\n",
              "      <td>2.854680</td>\n",
              "      <td>2.912394</td>\n",
              "      <td>2.937685</td>\n",
              "      <td>3.351437</td>\n",
              "      <td>3.432519</td>\n",
              "      <td>3.579448</td>\n",
              "      <td>4.425976</td>\n",
              "      <td>7.402103</td>\n",
              "      <td>1.000000</td>\n",
              "    </tr>\n",
              "  </tbody>\n",
              "</table>\n",
              "<p>8 rows × 141 columns</p>\n",
              "</div>\n",
              "      <button class=\"colab-df-convert\" onclick=\"convertToInteractive('df-be3d8832-4230-413e-a0ff-fea835308634')\"\n",
              "              title=\"Convert this dataframe to an interactive table.\"\n",
              "              style=\"display:none;\">\n",
              "        \n",
              "  <svg xmlns=\"http://www.w3.org/2000/svg\" height=\"24px\"viewBox=\"0 0 24 24\"\n",
              "       width=\"24px\">\n",
              "    <path d=\"M0 0h24v24H0V0z\" fill=\"none\"/>\n",
              "    <path d=\"M18.56 5.44l.94 2.06.94-2.06 2.06-.94-2.06-.94-.94-2.06-.94 2.06-2.06.94zm-11 1L8.5 8.5l.94-2.06 2.06-.94-2.06-.94L8.5 2.5l-.94 2.06-2.06.94zm10 10l.94 2.06.94-2.06 2.06-.94-2.06-.94-.94-2.06-.94 2.06-2.06.94z\"/><path d=\"M17.41 7.96l-1.37-1.37c-.4-.4-.92-.59-1.43-.59-.52 0-1.04.2-1.43.59L10.3 9.45l-7.72 7.72c-.78.78-.78 2.05 0 2.83L4 21.41c.39.39.9.59 1.41.59.51 0 1.02-.2 1.41-.59l7.78-7.78 2.81-2.81c.8-.78.8-2.07 0-2.86zM5.41 20L4 18.59l7.72-7.72 1.47 1.35L5.41 20z\"/>\n",
              "  </svg>\n",
              "      </button>\n",
              "      \n",
              "  <style>\n",
              "    .colab-df-container {\n",
              "      display:flex;\n",
              "      flex-wrap:wrap;\n",
              "      gap: 12px;\n",
              "    }\n",
              "\n",
              "    .colab-df-convert {\n",
              "      background-color: #E8F0FE;\n",
              "      border: none;\n",
              "      border-radius: 50%;\n",
              "      cursor: pointer;\n",
              "      display: none;\n",
              "      fill: #1967D2;\n",
              "      height: 32px;\n",
              "      padding: 0 0 0 0;\n",
              "      width: 32px;\n",
              "    }\n",
              "\n",
              "    .colab-df-convert:hover {\n",
              "      background-color: #E2EBFA;\n",
              "      box-shadow: 0px 1px 2px rgba(60, 64, 67, 0.3), 0px 1px 3px 1px rgba(60, 64, 67, 0.15);\n",
              "      fill: #174EA6;\n",
              "    }\n",
              "\n",
              "    [theme=dark] .colab-df-convert {\n",
              "      background-color: #3B4455;\n",
              "      fill: #D2E3FC;\n",
              "    }\n",
              "\n",
              "    [theme=dark] .colab-df-convert:hover {\n",
              "      background-color: #434B5C;\n",
              "      box-shadow: 0px 1px 3px 1px rgba(0, 0, 0, 0.15);\n",
              "      filter: drop-shadow(0px 1px 2px rgba(0, 0, 0, 0.3));\n",
              "      fill: #FFFFFF;\n",
              "    }\n",
              "  </style>\n",
              "\n",
              "      <script>\n",
              "        const buttonEl =\n",
              "          document.querySelector('#df-be3d8832-4230-413e-a0ff-fea835308634 button.colab-df-convert');\n",
              "        buttonEl.style.display =\n",
              "          google.colab.kernel.accessAllowed ? 'block' : 'none';\n",
              "\n",
              "        async function convertToInteractive(key) {\n",
              "          const element = document.querySelector('#df-be3d8832-4230-413e-a0ff-fea835308634');\n",
              "          const dataTable =\n",
              "            await google.colab.kernel.invokeFunction('convertToInteractive',\n",
              "                                                     [key], {});\n",
              "          if (!dataTable) return;\n",
              "\n",
              "          const docLinkHtml = 'Like what you see? Visit the ' +\n",
              "            '<a target=\"_blank\" href=https://colab.research.google.com/notebooks/data_table.ipynb>data table notebook</a>'\n",
              "            + ' to learn more about interactive tables.';\n",
              "          element.innerHTML = '';\n",
              "          dataTable['output_type'] = 'display_data';\n",
              "          await google.colab.output.renderOutput(dataTable, element);\n",
              "          const docLink = document.createElement('div');\n",
              "          docLink.innerHTML = docLinkHtml;\n",
              "          element.appendChild(docLink);\n",
              "        }\n",
              "      </script>\n",
              "    </div>\n",
              "  </div>\n",
              "  "
            ]
          },
          "metadata": {},
          "execution_count": 6
        }
      ]
    },
    {
      "cell_type": "code",
      "source": [
        "by_label  = df.groupby(140).count()\n",
        "by_label.unstack(0)[0]"
      ],
      "metadata": {
        "colab": {
          "base_uri": "https://localhost:8080/"
        },
        "id": "Io8hhcn7ssmq",
        "outputId": "cdb0be15-7ca3-41ca-e756-0fb03272b019"
      },
      "execution_count": null,
      "outputs": [
        {
          "output_type": "execute_result",
          "data": {
            "text/plain": [
              "140\n",
              "0.0    2079\n",
              "1.0    2919\n",
              "dtype: int64"
            ]
          },
          "metadata": {},
          "execution_count": 7
        }
      ]
    },
    {
      "cell_type": "code",
      "source": [
        "data = df.iloc[:,:-1].values\n",
        "labels = df.iloc[:,-1].values\n",
        "labels"
      ],
      "metadata": {
        "colab": {
          "base_uri": "https://localhost:8080/"
        },
        "id": "nx4b0z8fuODF",
        "outputId": "31c11083-36a8-4254-e647-f278c323b849"
      },
      "execution_count": null,
      "outputs": [
        {
          "output_type": "execute_result",
          "data": {
            "text/plain": [
              "array([1., 1., 1., ..., 0., 0., 0.])"
            ]
          },
          "metadata": {},
          "execution_count": 8
        }
      ]
    },
    {
      "cell_type": "code",
      "source": [
        "# print(labels.shape)"
      ],
      "metadata": {
        "id": "dngciyGOuSb0"
      },
      "execution_count": null,
      "outputs": []
    },
    {
      "cell_type": "code",
      "source": [],
      "metadata": {
        "id": "Y8in23BP3kRg"
      },
      "execution_count": null,
      "outputs": []
    },
    {
      "cell_type": "code",
      "source": [
        "from sklearn.model_selection import train_test_split, GridSearchCV\n",
        "train_data, test_data, train_labels, test_labels = train_test_split(data, labels, test_size = 0.2, random_state = 123)\n",
        "print('train data shape: ', train_data.shape)\n",
        "print('test data shape: ', test_data.shape)\n",
        "print('train labels shape: ', train_labels.shape)\n",
        "print('test labels shape: ', test_labels.shape)"
      ],
      "metadata": {
        "colab": {
          "base_uri": "https://localhost:8080/"
        },
        "id": "TzMRK-eRuXSM",
        "outputId": "4efb6849-f663-40d8-ac2e-e2d2e199bc1b"
      },
      "execution_count": null,
      "outputs": [
        {
          "output_type": "stream",
          "name": "stdout",
          "text": [
            "train data shape:  (3998, 140)\n",
            "test data shape:  (1000, 140)\n",
            "train labels shape:  (3998,)\n",
            "test labels shape:  (1000,)\n"
          ]
        }
      ]
    },
    {
      "cell_type": "code",
      "source": [
        "#Now lets Normalize the data -1 1\n",
        "# Calculate the minimum and maximum values from the training set\n",
        "data_min = tf.reduce_min(train_data)\n",
        "data_max = tf.reduce_max(train_data)\n",
        "\n",
        "# Normalize the training data to the range [-1, 1]\n",
        "train_data = (train_data - data_min) / (data_max - data_min) * 2 - 1\n",
        "\n",
        "# Normalize the test data using the same minimum and maximum values\n",
        "test_data = (test_data - data_min) / (data_max - data_min) * 2 - 1\n",
        "\n",
        "# Cast the normalized data to the tf.float32 data type\n",
        "train_data_float = tf.cast(train_data, dtype=tf.float32)\n",
        "test_data_float = tf.cast(test_data, dtype=tf.float32)\n"
      ],
      "metadata": {
        "id": "FKBQdwn_333c"
      },
      "execution_count": null,
      "outputs": []
    },
    {
      "cell_type": "code",
      "source": [
        "normal_ecg = train_data[5]\n",
        "plt.plot(normal_ecg)"
      ],
      "metadata": {
        "colab": {
          "base_uri": "https://localhost:8080/",
          "height": 447
        },
        "id": "1473iuShvP0m",
        "outputId": "d34f0923-ec75-48d7-b6ca-1d0ff153f399"
      },
      "execution_count": null,
      "outputs": [
        {
          "output_type": "execute_result",
          "data": {
            "text/plain": [
              "[<matplotlib.lines.Line2D at 0x7fe4da47fc40>]"
            ]
          },
          "metadata": {},
          "execution_count": 12
        },
        {
          "output_type": "display_data",
          "data": {
            "text/plain": [
              "<Figure size 640x480 with 1 Axes>"
            ],
            "image/png": "[encoded data removed]"
          },
          "metadata": {}
        }
      ]
    },
    {
      "cell_type": "code",
      "source": [
        "#The labels are either 0 or 1, so I will convert them into boolean\n",
        "train_labels = train_labels.astype(bool)\n",
        "test_labels = test_labels.astype(bool)\n",
        "\n",
        "#Now let's separate the data for normal ECG from that of abnormal ones\n",
        "#Normal ECG data\n",
        "normal_train_data = train_data[train_labels]\n",
        "normal_test_data = test_data[test_labels]\n",
        "\n",
        "\n",
        "#transforming to tensorflow.float type\n",
        "normal_train_data_float = tf.cast(normal_train_data, dtype=tf.float32)\n",
        "normal_test_data_float = tf.cast(normal_test_data, dtype=tf.float32)\n",
        "\n",
        "#transforming to pd.dataframe:\n",
        "normal_train_data_df = pd.DataFrame(normal_train_data, columns = df.columns[0:140])\n",
        "normal_test_data_df = pd.DataFrame(normal_test_data, columns = df.columns[0:140])\n",
        "\n",
        "#shapes\n",
        "print('normal train data df shape: ', normal_train_data_df.shape)\n",
        "print('normal test data df shape: ', normal_test_data_df.shape)\n",
        "\n",
        "#Abnormal ECG data\n",
        "\n",
        "abnormal_train_data = train_data[~train_labels]\n",
        "abnormal_test_data = test_data[~test_labels]\n",
        "\n",
        "#transforming to tensorflow.float type\n",
        "abnormal_train_data_float = tf.cast(abnormal_train_data, dtype=tf.float32)\n",
        "abnormal_test_data_float = tf.cast(abnormal_test_data, dtype=tf.float32)\n",
        "\n",
        "#transforming to pd.dataframe:\n",
        "abnormal_train_data_df = pd.DataFrame(abnormal_train_data, columns = df.columns[0:140])\n",
        "abnormal_test_data_df = pd.DataFrame(abnormal_test_data, columns = df.columns[0:140])\n",
        "\n",
        "#shapes\n",
        "print('abnormal train data df shape: ', abnormal_train_data_df.shape)\n",
        "print('abnormal test data df shape: ', abnormal_test_data_df.shape)\n",
        "\n",
        "\n"
      ],
      "metadata": {
        "colab": {
          "base_uri": "https://localhost:8080/"
        },
        "id": "Oe5LuvwMyHF8",
        "outputId": "480f6626-df8a-49bc-9a2b-c1494a0aea84"
      },
      "execution_count": null,
      "outputs": [
        {
          "output_type": "stream",
          "name": "stdout",
          "text": [
            "normal train data df shape:  (2323, 140)\n",
            "normal test data df shape:  (596, 140)\n",
            "abnormal train data df shape:  (1675, 140)\n",
            "abnormal test data df shape:  (404, 140)\n"
          ]
        }
      ]
    },
    {
      "cell_type": "code",
      "source": [
        "#Lets plot a normal ECG\n",
        "normal_ecg = normal_train_data[0]\n",
        "plt.plot(np.arange(140), normal_ecg)\n",
        "plt.grid()\n",
        "plt.title('Normal ECG')\n",
        "plt.show()"
      ],
      "metadata": {
        "colab": {
          "base_uri": "https://localhost:8080/",
          "height": 452
        },
        "id": "xxkjOa6lzb0h",
        "outputId": "00bfaa44-d2b9-4819-ce36-405a066e2e46"
      },
      "execution_count": null,
      "outputs": [
        {
          "output_type": "display_data",
          "data": {
            "text/plain": [
              "<Figure size 640x480 with 1 Axes>"
            ],
            "image/png": "[encoded data removed]"
          },
          "metadata": {}
        }
      ]
    },
    {
      "cell_type": "code",
      "source": [
        "#Lets plot one from abnormal ECG\n",
        "abnormal_ecg = abnormal_train_data[0]\n",
        "plt.plot(np.arange(140),abnormal_ecg )\n",
        "plt.grid()\n",
        "plt.title('Abnormal ECG')\n",
        "plt.show()"
      ],
      "metadata": {
        "colab": {
          "base_uri": "https://localhost:8080/",
          "height": 452
        },
        "id": "Tx17AIORzi2F",
        "outputId": "11f15f2b-7347-45ef-aac1-5a33b0ccc100"
      },
      "execution_count": null,
      "outputs": [
        {
          "output_type": "display_data",
          "data": {
            "text/plain": [
              "<Figure size 640x480 with 1 Axes>"
            ],
            "image/png": "[encoded data removed]"
          },
          "metadata": {}
        }
      ]
    },
    {
      "cell_type": "markdown",
      "source": [
        "# **model**"
      ],
      "metadata": {
        "id": "WxGXhkYezo9E"
      }
    },
    {
      "cell_type": "code",
      "source": [
        "\n",
        "import tensorflow as tf\n",
        "from tensorflow.keras import layers, regularizers\n",
        "# from torch_two_sample.statistics_diff import MMDStatistic\n",
        "import torch\n",
        "\n",
        "import matplotlib.pyplot as plt\n",
        "import numpy as np\n",
        "import random\n",
        "\n",
        "from IPython import display\n",
        "from tqdm import tqdm\n",
        "from shutil import copyfile\n"
      ],
      "metadata": {
        "id": "lVgWobCZzpPc"
      },
      "execution_count": null,
      "outputs": []
    },
    {
      "cell_type": "code",
      "source": [
        "!ls"
      ],
      "metadata": {
        "colab": {
          "base_uri": "https://localhost:8080/"
        },
        "id": "W7G4AOerwt25",
        "outputId": "7012f93f-361a-4862-c5f4-882708de62e6"
      },
      "execution_count": null,
      "outputs": [
        {
          "output_type": "stream",
          "name": "stdout",
          "text": [
            "Generator.h5  sample_data\n"
          ]
        }
      ]
    },
    {
      "cell_type": "code",
      "source": [
        "import glob\n",
        "model_files = glob.glob('*.h5')\n",
        "print(model_files)"
      ],
      "metadata": {
        "colab": {
          "base_uri": "https://localhost:8080/"
        },
        "id": "OnyZCWb6yNRD",
        "outputId": "ab26da80-0dd2-4195-a1ab-0604df49b28f"
      },
      "execution_count": null,
      "outputs": [
        {
          "output_type": "stream",
          "name": "stdout",
          "text": [
            "['Generator.h5']\n"
          ]
        }
      ]
    },
    {
      "cell_type": "code",
      "source": [
        "# the generator \n",
        "\n",
        "import tensorflow as tf\n",
        "from tensorflow.keras import layers\n",
        "\n",
        "# def make_generator_model():\n",
        "#     model = tf.keras.Sequential()\n",
        "#     model.add(layers.Dense(100 * 140, activation=\"relu\", input_dim=140))\n",
        "#     model.add(layers.Reshape((140, 100)))\n",
        "#     model.add(layers.Bidirectional(layers.LSTM(64, return_sequences=True)))\n",
        "#     model.add(layers.Conv1DTranspose(filters=128, kernel_size=16, strides=1, padding=\"same\"))\n",
        "#     model.add(layers.LeakyReLU())\n",
        "#     model.add(layers.Conv1DTranspose(filters=64, kernel_size=16, strides=1, padding=\"same\"))\n",
        "#     model.add(layers.LeakyReLU())\n",
        "#     model.add(layers.Conv1DTranspose(filters=32, kernel_size=16, strides=1, padding=\"same\"))\n",
        "#     model.add(layers.LeakyReLU())\n",
        "#     model.add(layers.Conv1DTranspose(filters=1, kernel_size=16, strides=1, padding=\"same\", activation=\"tanh\"))\n",
        "#     return model\n",
        "def make_generator_model():\n",
        "    model = tf.keras.Sequential()\n",
        "    \n",
        "    # Dense layer with more neurons\n",
        "    model.add(layers.Dense(100*140, activation=\"relu\", input_dim=140))\n",
        "    \n",
        "    # Reshape layer\n",
        "    model.add(layers.Reshape((140, 100)))\n",
        "    \n",
        "    # LSTM layers\n",
        "    model.add(layers.Bidirectional(layers.LSTM(64, return_sequences=True)))\n",
        "    model.add(layers.BatchNormalization())\n",
        "    model.add(layers.Bidirectional(layers.LSTM(64, return_sequences=True)))\n",
        "    model.add(layers.BatchNormalization())\n",
        "    model.add(layers.Dropout(0.2, input_shape=(140,)))\n",
        "    \n",
        "    # Conv1DTranspose layers with skip connections\n",
        "    model.add(layers.Conv1DTranspose(filters=1, kernel_size=16, strides=1, padding=\"same\", activation=\"relu\"))\n",
        "    model.add(layers.BatchNormalization())\n",
        "    \n",
        "    model.add(layers.Conv1DTranspose(filters=1, kernel_size=16, strides=1, padding=\"same\", activation=\"relu\"))\n",
        "    model.add(layers.BatchNormalization())\n",
        "    \n",
        "    model.add(layers.Conv1DTranspose(filters=1, kernel_size=16, strides=1, padding=\"same\", activation=\"tanh\"))\n",
        "    \n",
        "    return model\n",
        "\n",
        "\n",
        "\n",
        "# def make_discriminator_model():\n",
        "#     model = tf.keras.Sequential()\n",
        "#     model.add(layers.Conv1D(filters=32, kernel_size=16, strides=1, padding=\"same\", input_shape=(140, 1)))\n",
        "#     model.add(layers.LeakyReLU())\n",
        "#     model.add(layers.Conv1D(filters=64, kernel_size=16, strides=1, padding=\"same\"))\n",
        "#     model.add(layers.LeakyReLU())\n",
        "#     model.add(layers.MaxPooling1D(pool_size=2))\n",
        "#     model.add(layers.Conv1D(filters=128, kernel_size=16, strides=1, padding=\"same\"))\n",
        "#     model.add(layers.LeakyReLU())\n",
        "#     model.add(layers.Conv1D(filters=256, kernel_size=16, strides=1, padding=\"same\"))\n",
        "#     model.add(layers.LeakyReLU())\n",
        "#     model.add(layers.MaxPooling1D(pool_size=2))\n",
        "#     model.add(layers.Flatten())\n",
        "#     model.add(layers.Dense(1))\n",
        "#     return model\n",
        "import tensorflow as tf\n",
        "from tensorflow.keras import layers\n",
        "\n",
        "def make_discriminator_model():\n",
        "    model = tf.keras.Sequential()\n",
        "    \n",
        "    # Conv1D layers\n",
        "    model.add(layers.Conv1D(filters=32, kernel_size=16, strides=1, padding=\"same\", input_shape=(140, 1)))\n",
        "    model.add(layers.LeakyReLU())\n",
        "    model.add(layers.Conv1D(filters=64, kernel_size=16, strides=1, padding=\"same\"))\n",
        "    model.add(layers.LeakyReLU())\n",
        "    model.add(layers.BatchNormalization())\n",
        "    model.add(layers.MaxPooling1D(pool_size=2))\n",
        "    model.add(layers.Dropout(0.3))\n",
        "    \n",
        "    model.add(layers.Conv1D(filters=128, kernel_size=16, strides=1, padding=\"same\"))\n",
        "    model.add(layers.LeakyReLU())\n",
        "    model.add(layers.Conv1D(filters=256, kernel_size=16, strides=1, padding=\"same\"))\n",
        "    model.add(layers.LeakyReLU())\n",
        "    model.add(layers.BatchNormalization())\n",
        "    model.add(layers.MaxPooling1D(pool_size=2))\n",
        "    model.add(layers.Dropout(0.3))\n",
        "    \n",
        "    # Flatten and dense layer\n",
        "    model.add(layers.Flatten())\n",
        "    model.add(layers.Dense(256))\n",
        "    model.add(layers.LeakyReLU())\n",
        "    \n",
        "    # Output layer\n",
        "    model.add(layers.Dense(1, activation='sigmoid'))\n",
        "    \n",
        "    return model\n",
        "\n",
        "generator = make_generator_model()\n",
        "discriminator = make_discriminator_model()\n",
        "\n",
        "generator.summary()\n",
        "discriminator.summary()\n",
        "\n"
      ],
      "metadata": {
        "colab": {
          "base_uri": "https://localhost:8080/"
        },
        "id": "XctFbKaB180A",
        "outputId": "0ffd90d2-06af-4220-f75b-2dbcfc10d5a2"
      },
      "execution_count": null,
      "outputs": [
        {
          "output_type": "stream",
          "name": "stdout",
          "text": [
            "Model: \"sequential\"\n",
            "_________________________________________________________________\n",
            " Layer (type)                Output Shape              Param #   \n",
            "=================================================================\n",
            " dense (Dense)               (None, 14000)             1974000   \n",
            "                                                                 \n",
            " reshape (Reshape)           (None, 140, 100)          0         \n",
            "                                                                 \n",
            " bidirectional (Bidirectiona  (None, 140, 128)         84480     \n",
            " l)                                                              \n",
            "                                                                 \n",
            " batch_normalization (BatchN  (None, 140, 128)         512       \n",
            " ormalization)                                                   \n",
            "                                                                 \n",
            " bidirectional_1 (Bidirectio  (None, 140, 128)         98816     \n",
            " nal)                                                            \n",
            "                                                                 \n",
            " batch_normalization_1 (Batc  (None, 140, 128)         512       \n",
            " hNormalization)                                                 \n",
            "                                                                 \n",
            " dropout (Dropout)           (None, 140, 128)          0         \n",
            "                                                                 \n",
            " conv1d_transpose (Conv1DTra  (None, 140, 1)           2049      \n",
            " nspose)                                                         \n",
            "                                                                 \n",
            " batch_normalization_2 (Batc  (None, 140, 1)           4         \n",
            " hNormalization)                                                 \n",
            "                                                                 \n",
            " conv1d_transpose_1 (Conv1DT  (None, 140, 1)           17        \n",
            " ranspose)                                                       \n",
            "                                                                 \n",
            " batch_normalization_3 (Batc  (None, 140, 1)           4         \n",
            " hNormalization)                                                 \n",
            "                                                                 \n",
            " conv1d_transpose_2 (Conv1DT  (None, 140, 1)           17        \n",
            " ranspose)                                                       \n",
            "                                                                 \n",
            "=================================================================\n",
            "Total params: 2,160,411\n",
            "Trainable params: 2,159,895\n",
            "Non-trainable params: 516\n",
            "_________________________________________________________________\n",
            "Model: \"sequential_1\"\n",
            "_________________________________________________________________\n",
            " Layer (type)                Output Shape              Param #   \n",
            "=================================================================\n",
            " conv1d (Conv1D)             (None, 140, 32)           544       \n",
            "                                                                 \n",
            " leaky_re_lu (LeakyReLU)     (None, 140, 32)           0         \n",
            "                                                                 \n",
            " conv1d_1 (Conv1D)           (None, 140, 64)           32832     \n",
            "                                                                 \n",
            " leaky_re_lu_1 (LeakyReLU)   (None, 140, 64)           0         \n",
            "                                                                 \n",
            " batch_normalization_4 (Batc  (None, 140, 64)          256       \n",
            " hNormalization)                                                 \n",
            "                                                                 \n",
            " max_pooling1d (MaxPooling1D  (None, 70, 64)           0         \n",
            " )                                                               \n",
            "                                                                 \n",
            " dropout_1 (Dropout)         (None, 70, 64)            0         \n",
            "                                                                 \n",
            " conv1d_2 (Conv1D)           (None, 70, 128)           131200    \n",
            "                                                                 \n",
            " leaky_re_lu_2 (LeakyReLU)   (None, 70, 128)           0         \n",
            "                                                                 \n",
            " conv1d_3 (Conv1D)           (None, 70, 256)           524544    \n",
            "                                                                 \n",
            " leaky_re_lu_3 (LeakyReLU)   (None, 70, 256)           0         \n",
            "                                                                 \n",
            " batch_normalization_5 (Batc  (None, 70, 256)          1024      \n",
            " hNormalization)                                                 \n",
            "                                                                 \n",
            " max_pooling1d_1 (MaxPooling  (None, 35, 256)          0         \n",
            " 1D)                                                             \n",
            "                                                                 \n",
            " dropout_2 (Dropout)         (None, 35, 256)           0         \n",
            "                                                                 \n",
            " flatten (Flatten)           (None, 8960)              0         \n",
            "                                                                 \n",
            " dense_1 (Dense)             (None, 256)               2294016   \n",
            "                                                                 \n",
            " leaky_re_lu_4 (LeakyReLU)   (None, 256)               0         \n",
            "                                                                 \n",
            " dense_2 (Dense)             (None, 1)                 257       \n",
            "                                                                 \n",
            "=================================================================\n",
            "Total params: 2,984,673\n",
            "Trainable params: 2,984,033\n",
            "Non-trainable params: 640\n",
            "_________________________________________________________________\n"
          ]
        }
      ]
    },
    {
      "cell_type": "code",
      "source": [
        "def generate_noise(batch_size, noise_dim):\n",
        "    \"\"\"\n",
        "    Generates random noise of shape (batch_size, noise_dim) between -1 and 1.\n",
        "    \"\"\"\n",
        "    return tf.random.uniform([batch_size, noise_dim], minval=-1, maxval=1)\n",
        "\n",
        "\n",
        "def generate_fake_signals(generator, noise):\n",
        "    \"\"\"\n",
        "    Generates synthetic ECG signals from random noise using the generator model.\n",
        "    \"\"\"\n",
        "    return generator(noise)"
      ],
      "metadata": {
        "id": "-pG9VXJK9VGE"
      },
      "execution_count": null,
      "outputs": []
    },
    {
      "cell_type": "code",
      "source": [
        "# Define the loss function for the generator\n",
        "def generator_loss(fake_output):\n",
        "    return tf.keras.losses.BinaryCrossentropy(from_logits=True)(tf.ones_like(fake_output), fake_output)\n",
        "\n",
        "# Define the loss function for the discriminator\n",
        "def discriminator_loss(real_output, fake_output):\n",
        "    real_loss = tf.keras.losses.BinaryCrossentropy(from_logits=True)(tf.ones_like(real_output), real_output)\n",
        "    fake_loss = tf.keras.losses.BinaryCrossentropy(from_logits=True)(tf.zeros_like(fake_output), fake_output)\n",
        "    total_loss = real_loss + fake_loss\n",
        "    return total_loss\n"
      ],
      "metadata": {
        "id": "u3wosftx_sZz"
      },
      "execution_count": null,
      "outputs": []
    },
    {
      "cell_type": "code",
      "source": [
        "def train_gan(generator, discriminator, noise_dim, train_dataset, epochs, batch_size, generator_optimizer, discriminator_optimizer):\n",
        "    for epoch in range(epochs):\n",
        "        for batch in train_dataset:\n",
        "            # Train discriminator\n",
        "            with tf.GradientTape() as disc_tape:\n",
        "                real_signals = batch\n",
        "                noise = tf.random.normal([batch_size, noise_dim])\n",
        "                generated_signals = generator(noise)\n",
        "                real_output = discriminator(real_signals)\n",
        "                generated_output = discriminator(generated_signals)\n",
        "                disc_loss = discriminator_loss(real_output, generated_output)\n",
        "\n",
        "            gradients_of_discriminator = disc_tape.gradient(disc_loss, discriminator.trainable_variables)\n",
        "            discriminator_optimizer.apply_gradients(zip(gradients_of_discriminator, discriminator.trainable_variables))\n",
        "\n",
        "            # Train generator\n",
        "            with tf.GradientTape() as gen_tape:\n",
        "                noise = tf.random.normal([batch_size, noise_dim])\n",
        "                generated_signals = generator(noise)\n",
        "                generated_output = discriminator(generated_signals)\n",
        "                gen_loss = generator_loss(generated_output)\n",
        "\n",
        "            gradients_of_generator = gen_tape.gradient(gen_loss, generator.trainable_variables)\n",
        "            generator_optimizer.apply_gradients(zip(gradients_of_generator, generator.trainable_variables))\n",
        "\n",
        "        print(\"Epoch:\", epoch + 1, \"Generator Loss:\", gen_loss.numpy(), \"Discriminator Loss:\", disc_loss.numpy())\n"
      ],
      "metadata": {
        "id": "NoOL-BqQb-vT"
      },
      "execution_count": null,
      "outputs": []
    },
    {
      "cell_type": "code",
      "source": [
        "# Define the optimizers\n",
        "# generator_optimizer = tf.keras.optimizers.Adam(learning_rate=0.02, beta_1=0.5)\n",
        "# discriminator_optimizer = tf.keras.optimizers.Adam(learning_rate=0.02, beta_1=0.5)\n",
        "\n",
        "generator_optimizer = tf.keras.optimizers.RMSprop(learning_rate=0.001)\n",
        "discriminator_optimizer = tf.keras.optimizers.RMSprop(learning_rate=0.0001)\n",
        "\n",
        "# Set the noise dimension\n",
        "noise_dim = 140\n",
        "seq_length = 140\n",
        "# Define the number of epochs and batch size\n",
        "EPOCHS = 5\n",
        "BATCH_SIZE = 170\n",
        "# Prepare the data\n",
        "dim = (noise_dim,)\n"
      ],
      "metadata": {
        "id": "DOiySFVy_9vq"
      },
      "execution_count": null,
      "outputs": []
    },
    {
      "cell_type": "code",
      "source": [
        "def prepare_data(dim , train_dataset , test_dataset):\n",
        "    # Batch and shuffle the data\n",
        "    train_size = train_dataset.shape[0]\n",
        "    test_size  = test_dataset.shape[0]\n",
        "    train_dataset = tf.data.Dataset.from_tensor_slices(train_dataset).shuffle(train_size).batch(BATCH_SIZE)\n",
        "    test_dataset  = tf.data.Dataset.from_tensor_slices(test_dataset).shuffle(test_size).batch(1)\n",
        "\n",
        "    seed = tf.random.uniform(dim, minval=-1, maxval=1, dtype=tf.float32)\n",
        "\n",
        "    # Reshape signals to match the discriminator input shape\n",
        "    return seed ,train_dataset , test_dataset\n"
      ],
      "metadata": {
        "id": "rcN853l8C5SH"
      },
      "execution_count": null,
      "outputs": []
    },
    {
      "cell_type": "code",
      "source": [
        "seed , train_dataset , test_dataset = prepare_data(dim,normal_train_data_df , normal_test_data_df)"
      ],
      "metadata": {
        "id": "2kGsplNnC7I_"
      },
      "execution_count": null,
      "outputs": []
    },
    {
      "cell_type": "markdown",
      "source": [],
      "metadata": {
        "id": "7v9mo5bA_gw1"
      }
    },
    {
      "cell_type": "code",
      "source": [
        "train_dataset"
      ],
      "metadata": {
        "colab": {
          "base_uri": "https://localhost:8080/"
        },
        "id": "7gPoDE40V4-q",
        "outputId": "5dc8da69-2728-479a-c456-d9f7adc10539"
      },
      "execution_count": null,
      "outputs": [
        {
          "output_type": "execute_result",
          "data": {
            "text/plain": [
              "<_BatchDataset element_spec=TensorSpec(shape=(None, 140), dtype=tf.float64, name=None)>"
            ]
          },
          "metadata": {},
          "execution_count": 26
        }
      ]
    },
    {
      "cell_type": "code",
      "source": [
        "train_gan(generator, discriminator, noise_dim, train_dataset, EPOCHS, BATCH_SIZE, generator_optimizer, discriminator_optimizer)\n"
      ],
      "metadata": {
        "colab": {
          "base_uri": "https://localhost:8080/"
        },
        "id": "F8NfKdwoACiQ",
        "outputId": "8aff42bb-6136-40b3-dad0-4b1d0f8e59fe"
      },
      "execution_count": null,
      "outputs": [
        {
          "output_type": "stream",
          "name": "stderr",
          "text": [
            "/usr/local/lib/python3.10/dist-packages/keras/backend.py:5703: UserWarning: \"`binary_crossentropy` received `from_logits=True`, but the `output` argument was produced by a Sigmoid activation and thus does not represent logits. Was this intended?\n",
            "  output, from_logits = _get_logits(\n",
            "WARNING:tensorflow:5 out of the last 5 calls to <function _BaseOptimizer._update_step_xla at 0x7fe484ec5480> triggered tf.function retracing. Tracing is expensive and the excessive number of tracings could be due to (1) creating @tf.function repeatedly in a loop, (2) passing tensors with different shapes, (3) passing Python objects instead of tensors. For (1), please define your @tf.function outside of the loop. For (2), @tf.function has reduce_retracing=True option that can avoid unnecessary retracing. For (3), please refer to https://www.tensorflow.org/guide/function#controlling_retracing and https://www.tensorflow.org/api_docs/python/tf/function for  more details.\n",
            "WARNING:tensorflow:6 out of the last 6 calls to <function _BaseOptimizer._update_step_xla at 0x7fe484ec5480> triggered tf.function retracing. Tracing is expensive and the excessive number of tracings could be due to (1) creating @tf.function repeatedly in a loop, (2) passing tensors with different shapes, (3) passing Python objects instead of tensors. For (1), please define your @tf.function outside of the loop. For (2), @tf.function has reduce_retracing=True option that can avoid unnecessary retracing. For (3), please refer to https://www.tensorflow.org/guide/function#controlling_retracing and https://www.tensorflow.org/api_docs/python/tf/function for  more details.\n"
          ]
        },
        {
          "output_type": "stream",
          "name": "stdout",
          "text": [
            "Epoch: 1 Generator Loss: 0.7247102 Discriminator Loss: 1.0983199\n",
            "Epoch: 2 Generator Loss: 1.2467817 Discriminator Loss: 0.4550516\n",
            "Epoch: 3 Generator Loss: 1.2050993 Discriminator Loss: 1.0982915\n",
            "Epoch: 4 Generator Loss: 0.7122995 Discriminator Loss: 1.4161752\n",
            "Epoch: 5 Generator Loss: 0.88767684 Discriminator Loss: 1.4116341\n"
          ]
        }
      ]
    },
    {
      "cell_type": "code",
      "source": [
        "generator.save('Generator.h5')\n",
        "model = tf.keras.models.load_model('Generator.h5')\n",
        "model.summary()"
      ],
      "metadata": {
        "colab": {
          "base_uri": "https://localhost:8080/"
        },
        "id": "8qyl4w4a9qgf",
        "outputId": "9e71c0d3-17be-40e7-c1d1-68e59de4b34a"
      },
      "execution_count": null,
      "outputs": [
        {
          "output_type": "stream",
          "name": "stderr",
          "text": [
            "WARNING:tensorflow:Compiled the loaded model, but the compiled metrics have yet to be built. `model.compile_metrics` will be empty until you train or evaluate the model.\n",
            "WARNING:tensorflow:No training configuration found in the save file, so the model was *not* compiled. Compile it manually.\n"
          ]
        },
        {
          "output_type": "stream",
          "name": "stdout",
          "text": [
            "Model: \"sequential\"\n",
            "_________________________________________________________________\n",
            " Layer (type)                Output Shape              Param #   \n",
            "=================================================================\n",
            " dense (Dense)               (None, 14000)             1974000   \n",
            "                                                                 \n",
            " reshape (Reshape)           (None, 140, 100)          0         \n",
            "                                                                 \n",
            " bidirectional (Bidirectiona  (None, 140, 128)         84480     \n",
            " l)                                                              \n",
            "                                                                 \n",
            " batch_normalization (BatchN  (None, 140, 128)         512       \n",
            " ormalization)                                                   \n",
            "                                                                 \n",
            " bidirectional_1 (Bidirectio  (None, 140, 128)         98816     \n",
            " nal)                                                            \n",
            "                                                                 \n",
            " batch_normalization_1 (Batc  (None, 140, 128)         512       \n",
            " hNormalization)                                                 \n",
            "                                                                 \n",
            " dropout (Dropout)           (None, 140, 128)          0         \n",
            "                                                                 \n",
            " conv1d_transpose (Conv1DTra  (None, 140, 1)           2049      \n",
            " nspose)                                                         \n",
            "                                                                 \n",
            " batch_normalization_2 (Batc  (None, 140, 1)           4         \n",
            " hNormalization)                                                 \n",
            "                                                                 \n",
            " conv1d_transpose_1 (Conv1DT  (None, 140, 1)           17        \n",
            " ranspose)                                                       \n",
            "                                                                 \n",
            " batch_normalization_3 (Batc  (None, 140, 1)           4         \n",
            " hNormalization)                                                 \n",
            "                                                                 \n",
            " conv1d_transpose_2 (Conv1DT  (None, 140, 1)           17        \n",
            " ranspose)                                                       \n",
            "                                                                 \n",
            "=================================================================\n",
            "Total params: 2,160,411\n",
            "Trainable params: 2,159,895\n",
            "Non-trainable params: 516\n",
            "_________________________________________________________________\n"
          ]
        }
      ]
    },
    {
      "cell_type": "code",
      "source": [
        "noise = np.random.normal(0, 1, (10, noise_dim))\n",
        "normalized_noise = 2 * noise - 1\n",
        "synthetic_data = model.predict(normalized_noise)\n",
        "\n",
        "# Print the shape of the generated data\n",
        "print(synthetic_data.shape)"
      ],
      "metadata": {
        "colab": {
          "base_uri": "https://localhost:8080/"
        },
        "id": "pQBkAA4GEd7g",
        "outputId": "f5cc70e5-2b87-4413-b460-7c6da8f11222"
      },
      "execution_count": null,
      "outputs": [
        {
          "output_type": "stream",
          "name": "stdout",
          "text": [
            "1/1 [==============================] - 1s 1s/step\n",
            "(10, 140, 1)\n"
          ]
        }
      ]
    },
    {
      "cell_type": "code",
      "source": [],
      "metadata": {
        "id": "A84ojInLQZxW"
      },
      "execution_count": null,
      "outputs": []
    },
    {
      "cell_type": "code",
      "source": [
        "# seed = tf.random.uniform(dim, minval=-1, maxval=1, dtype=tf.float32)\n",
        "noise = np.random.normal(0, 1, (10, noise_dim))\n",
        "normalized_noise = 2 * noise - 1\n",
        "ecg = generator(normalized_noise, training=False)\n",
        "# answer = discriminator(ecg)\n"
      ],
      "metadata": {
        "id": "xC-_qdB2Qtmc"
      },
      "execution_count": null,
      "outputs": []
    },
    {
      "cell_type": "code",
      "source": [
        "seed = tf.random.normal([1, 140, 1])\n",
        "normalized_seed = 2 * seed - 1\n",
        "\n",
        "ecg = model(normalized_seed, training=False)\n",
        "generated_normal_ecg = ecg.numpy().reshape(140, 1)\n"
      ],
      "metadata": {
        "id": "LKJkvJ9TR_VP"
      },
      "execution_count": null,
      "outputs": []
    },
    {
      "cell_type": "code",
      "source": [
        "plt.plot(generated_normal_ecg)\n"
      ],
      "metadata": {
        "colab": {
          "base_uri": "https://localhost:8080/",
          "height": 452
        },
        "id": "oZNZ7p1GWkwe",
        "outputId": "4c5d9fc1-1dc0-4fcf-9b04-3a5c634a872a"
      },
      "execution_count": null,
      "outputs": [
        {
          "output_type": "execute_result",
          "data": {
            "text/plain": [
              "[<matplotlib.lines.Line2D at 0x7fe470355720>]"
            ]
          },
          "metadata": {},
          "execution_count": 32
        },
        {
          "output_type": "display_data",
          "data": {
            "text/plain": [
              "<Figure size 640x480 with 1 Axes>"
            ],
            "image/png": "[encoded data removed]"
          },
          "metadata": {}
        }
      ]
    },
    {
      "cell_type": "code",
      "source": [],
      "metadata": {
        "id": "kvu0Em6h81Un"
      },
      "execution_count": null,
      "outputs": []
    },
    {
      "cell_type": "markdown",
      "source": [
        "# **Testing**"
      ],
      "metadata": {
        "id": "Wc2iySPyYVZp"
      }
    },
    {
      "cell_type": "code",
      "source": [
        "def rmse(targets, predictions):\n",
        "    targets = targets.numpy()\n",
        "    predictions = predictions.numpy()\n",
        "    return np.sqrt(np.mean((targets-predictions)**2))\n",
        "\n",
        "\n",
        "def prd(targets, predictions):\n",
        "    targets = targets.numpy()\n",
        "    predictions = predictions.numpy()\n",
        "    s1 = np.sum((targets-predictions)**2)\n",
        "    s2 = np.sum(targets**2)\n",
        "    return np.sqrt(s1 / s2 * 100)\n",
        "\n",
        "\n",
        "# def mmd(targets, predictions):\n",
        "#     mmd_stat = MMDStatistic(400, 400)\n",
        "#     sample_target = torch.from_numpy(targets.numpy().reshape((400,1)))\n",
        "#     sample_pred = torch.from_numpy(predictions.numpy().reshape((400,1)))\n",
        "    \n",
        "#     stat = mmd_stat(sample_target, sample_pred, [1.])\n",
        "#     return(stat.item())\n",
        "\n",
        "\n",
        "def testing(test_dataset, model, noise_dim):\n",
        "    # print(train_dataset.element_spec.shape)\n",
        "    # print(noise_dim)\n",
        "    noise = tf.random.normal(noise_dim , dtype=tf.double)\n",
        "    generated_ecgs = model(noise, training=False)\n",
        "    # print(generated_ecgs.shape)\n",
        "    mmd_sum, prd_sum, rmse_sum = [], [], []\n",
        "    for true_ecg, gen_ecg in zip(test_dataset, generated_ecgs):\n",
        "        prd_sum.append(prd(true_ecg[0], gen_ecg))\n",
        "        rmse_sum.append(rmse(true_ecg[0], gen_ecg))\n",
        "        # mmd_sum.append(mmd(true_ecg[0][0], gen_ecg[0]))\n",
        "\n",
        "    # print('mmd :', f'mean={np.mean(mmd_sum):.6f}', f'min={np.min(mmd_sum):.6f}', f'max={np.max(mmd_sum):.6f}')\n",
        "    print('prd :', f'mean={np.mean(prd_sum):.4f}', f'min={np.min(prd_sum):.4f}', f'max={np.max(prd_sum):.4f}')\n",
        "    print('rmse:', f'mean={np.mean(rmse_sum):.4f}', f'min={np.min(rmse_sum):.4f}', f'max={np.max(rmse_sum):.4f}')"
      ],
      "metadata": {
        "id": "4Q8JDyrXYY-R"
      },
      "execution_count": null,
      "outputs": []
    },
    {
      "cell_type": "code",
      "source": [
        "testing(test_dataset, model, [200,140])"
      ],
      "metadata": {
        "colab": {
          "base_uri": "https://localhost:8080/"
        },
        "id": "GpArcMHzYow3",
        "outputId": "d1f584d8-2aea-414e-b919-bc1ee0327564"
      },
      "execution_count": null,
      "outputs": [
        {
          "output_type": "stream",
          "name": "stdout",
          "text": [
            "prd : mean=185.5694 min=178.6917 max=193.1246\n",
            "rmse: mean=0.3246 min=0.3126 max=0.3378\n"
          ]
        }
      ]
    },
    {
      "cell_type": "markdown",
      "source": [
        "# **Abnormal Data**"
      ],
      "metadata": {
        "id": "Bv-ZQEZ1_jdf"
      }
    },
    {
      "cell_type": "code",
      "source": [
        "seed_abnormal , train_dataset_abnormal , test_dataset_abnormal = prepare_data(dim,abnormal_train_data_df , abnormal_test_data_df)"
      ],
      "metadata": {
        "id": "mbIjw4Uq_nML"
      },
      "execution_count": null,
      "outputs": []
    },
    {
      "cell_type": "code",
      "source": [
        "train_gan(generator, discriminator, noise_dim, train_dataset_abnormal, EPOCHS, BATCH_SIZE, generator_optimizer, discriminator_optimizer)\n"
      ],
      "metadata": {
        "colab": {
          "base_uri": "https://localhost:8080/"
        },
        "id": "Q5H7Rjw3AA82",
        "outputId": "a0e6a061-518a-4d9f-e2ef-704609a9e6b5"
      },
      "execution_count": null,
      "outputs": [
        {
          "output_type": "stream",
          "name": "stderr",
          "text": [
            "/usr/local/lib/python3.10/dist-packages/keras/backend.py:5703: UserWarning: \"`binary_crossentropy` received `from_logits=True`, but the `output` argument was produced by a Sigmoid activation and thus does not represent logits. Was this intended?\n",
            "  output, from_logits = _get_logits(\n"
          ]
        },
        {
          "output_type": "stream",
          "name": "stdout",
          "text": [
            "Epoch: 1 Generator Loss: 1.4734695 Discriminator Loss: 0.7959576\n",
            "Epoch: 2 Generator Loss: 1.5286937 Discriminator Loss: 0.86463404\n",
            "Epoch: 3 Generator Loss: 1.4610789 Discriminator Loss: 1.0275018\n",
            "Epoch: 4 Generator Loss: 1.4897921 Discriminator Loss: 0.84828424\n",
            "Epoch: 5 Generator Loss: 1.7996035 Discriminator Loss: 0.99107105\n"
          ]
        }
      ]
    },
    {
      "cell_type": "code",
      "source": [
        "generator.save('generator_abnormal.h5')\n",
        "model_abnormal = tf.keras.models.load_model('generator_abnormal.h5')\n",
        "model_abnormal.summary()"
      ],
      "metadata": {
        "id": "K1VkCmYPBH4T",
        "colab": {
          "base_uri": "https://localhost:8080/"
        },
        "outputId": "8fb1ca98-01c0-4608-cd1b-f98fbd5921d7"
      },
      "execution_count": null,
      "outputs": [
        {
          "output_type": "stream",
          "name": "stderr",
          "text": [
            "WARNING:tensorflow:Compiled the loaded model, but the compiled metrics have yet to be built. `model.compile_metrics` will be empty until you train or evaluate the model.\n",
            "WARNING:tensorflow:No training configuration found in the save file, so the model was *not* compiled. Compile it manually.\n"
          ]
        },
        {
          "output_type": "stream",
          "name": "stdout",
          "text": [
            "Model: \"sequential\"\n",
            "_________________________________________________________________\n",
            " Layer (type)                Output Shape              Param #   \n",
            "=================================================================\n",
            " dense (Dense)               (None, 14000)             1974000   \n",
            "                                                                 \n",
            " reshape (Reshape)           (None, 140, 100)          0         \n",
            "                                                                 \n",
            " bidirectional (Bidirectiona  (None, 140, 128)         84480     \n",
            " l)                                                              \n",
            "                                                                 \n",
            " batch_normalization (BatchN  (None, 140, 128)         512       \n",
            " ormalization)                                                   \n",
            "                                                                 \n",
            " bidirectional_1 (Bidirectio  (None, 140, 128)         98816     \n",
            " nal)                                                            \n",
            "                                                                 \n",
            " batch_normalization_1 (Batc  (None, 140, 128)         512       \n",
            " hNormalization)                                                 \n",
            "                                                                 \n",
            " dropout (Dropout)           (None, 140, 128)          0         \n",
            "                                                                 \n",
            " conv1d_transpose (Conv1DTra  (None, 140, 1)           2049      \n",
            " nspose)                                                         \n",
            "                                                                 \n",
            " batch_normalization_2 (Batc  (None, 140, 1)           4         \n",
            " hNormalization)                                                 \n",
            "                                                                 \n",
            " conv1d_transpose_1 (Conv1DT  (None, 140, 1)           17        \n",
            " ranspose)                                                       \n",
            "                                                                 \n",
            " batch_normalization_3 (Batc  (None, 140, 1)           4         \n",
            " hNormalization)                                                 \n",
            "                                                                 \n",
            " conv1d_transpose_2 (Conv1DT  (None, 140, 1)           17        \n",
            " ranspose)                                                       \n",
            "                                                                 \n",
            "=================================================================\n",
            "Total params: 2,160,411\n",
            "Trainable params: 2,159,895\n",
            "Non-trainable params: 516\n",
            "_________________________________________________________________\n"
          ]
        }
      ]
    },
    {
      "cell_type": "code",
      "source": [
        "pip install deepdish"
      ],
      "metadata": {
        "colab": {
          "base_uri": "https://localhost:8080/"
        },
        "id": "qkwkDUzRMtPB",
        "outputId": "6b65779d-a48e-401c-94e1-8be5907837ee"
      },
      "execution_count": null,
      "outputs": [
        {
          "output_type": "stream",
          "name": "stdout",
          "text": [
            "Looking in indexes: https://pypi.org/simple, https://us-python.pkg.dev/colab-wheels/public/simple/\n",
            "Collecting deepdish\n",
            "  Downloading deepdish-0.3.7-py2.py3-none-any.whl (37 kB)\n",
            "Requirement already satisfied: numpy in /usr/local/lib/python3.10/dist-packages (from deepdish) (1.22.4)\n",
            "Requirement already satisfied: tables in /usr/local/lib/python3.10/dist-packages (from deepdish) (3.8.0)\n",
            "Requirement already satisfied: scipy in /usr/local/lib/python3.10/dist-packages (from deepdish) (1.10.1)\n",
            "Requirement already satisfied: py-cpuinfo in /usr/local/lib/python3.10/dist-packages (from tables->deepdish) (9.0.0)\n",
            "Requirement already satisfied: numexpr>=2.6.2 in /usr/local/lib/python3.10/dist-packages (from tables->deepdish) (2.8.4)\n",
            "Requirement already satisfied: packaging in /usr/local/lib/python3.10/dist-packages (from tables->deepdish) (23.1)\n",
            "Requirement already satisfied: cython>=0.29.21 in /usr/local/lib/python3.10/dist-packages (from tables->deepdish) (0.29.34)\n",
            "Requirement already satisfied: blosc2~=2.0.0 in /usr/local/lib/python3.10/dist-packages (from tables->deepdish) (2.0.0)\n",
            "Requirement already satisfied: msgpack in /usr/local/lib/python3.10/dist-packages (from blosc2~=2.0.0->tables->deepdish) (1.0.5)\n",
            "Installing collected packages: deepdish\n",
            "Successfully installed deepdish-0.3.7\n"
          ]
        }
      ]
    },
    {
      "cell_type": "code",
      "source": [
        "import deepdish as dd\n",
        "\n",
        "# Load the HDF5 file into a dictionary\n",
        "data_dict = dd.io.load('generator_abnormal.h5')\n",
        "\n",
        "# Pickle the dictionary to a file\n",
        "dd.io.save('generator_abnormal.pkl', data_dict)\n"
      ],
      "metadata": {
        "colab": {
          "base_uri": "https://localhost:8080/"
        },
        "id": "z0NiHEfkKDZo",
        "outputId": "2de2b6c5-a788-4929-e88a-386f1d2ff887"
      },
      "execution_count": null,
      "outputs": [
        {
          "output_type": "stream",
          "name": "stderr",
          "text": [
            "/usr/local/lib/python3.10/dist-packages/tables/path.py:137: NaturalNameWarning: object name is not a valid Python identifier: 'beta:0'; it does not match the pattern ``^[a-zA-Z_][a-zA-Z0-9_]*$``; you will not be able to use natural naming to access this object; using ``getattr()`` will still work, though\n",
            "  check_attribute_name(name)\n",
            "/usr/local/lib/python3.10/dist-packages/tables/path.py:137: NaturalNameWarning: object name is not a valid Python identifier: 'gamma:0'; it does not match the pattern ``^[a-zA-Z_][a-zA-Z0-9_]*$``; you will not be able to use natural naming to access this object; using ``getattr()`` will still work, though\n",
            "  check_attribute_name(name)\n",
            "/usr/local/lib/python3.10/dist-packages/tables/path.py:137: NaturalNameWarning: object name is not a valid Python identifier: 'moving_mean:0'; it does not match the pattern ``^[a-zA-Z_][a-zA-Z0-9_]*$``; you will not be able to use natural naming to access this object; using ``getattr()`` will still work, though\n",
            "  check_attribute_name(name)\n",
            "/usr/local/lib/python3.10/dist-packages/tables/path.py:137: NaturalNameWarning: object name is not a valid Python identifier: 'moving_variance:0'; it does not match the pattern ``^[a-zA-Z_][a-zA-Z0-9_]*$``; you will not be able to use natural naming to access this object; using ``getattr()`` will still work, though\n",
            "  check_attribute_name(name)\n",
            "/usr/local/lib/python3.10/dist-packages/tables/path.py:137: NaturalNameWarning: object name is not a valid Python identifier: 'bias:0'; it does not match the pattern ``^[a-zA-Z_][a-zA-Z0-9_]*$``; you will not be able to use natural naming to access this object; using ``getattr()`` will still work, though\n",
            "  check_attribute_name(name)\n",
            "/usr/local/lib/python3.10/dist-packages/tables/path.py:137: NaturalNameWarning: object name is not a valid Python identifier: 'kernel:0'; it does not match the pattern ``^[a-zA-Z_][a-zA-Z0-9_]*$``; you will not be able to use natural naming to access this object; using ``getattr()`` will still work, though\n",
            "  check_attribute_name(name)\n",
            "/usr/local/lib/python3.10/dist-packages/tables/path.py:137: NaturalNameWarning: object name is not a valid Python identifier: 'recurrent_kernel:0'; it does not match the pattern ``^[a-zA-Z_][a-zA-Z0-9_]*$``; you will not be able to use natural naming to access this object; using ``getattr()`` will still work, though\n",
            "  check_attribute_name(name)\n"
          ]
        }
      ]
    },
    {
      "cell_type": "code",
      "source": [
        "from google.colab import files\n",
        "\n",
        "# Download the pickle file\n",
        "files.download('generator_abnormal.pkl')"
      ],
      "metadata": {
        "colab": {
          "base_uri": "https://localhost:8080/",
          "height": 34
        },
        "id": "G5xWYQPONiqR",
        "outputId": "979ce0a6-c173-4c8a-f4e1-39c59059aaa6"
      },
      "execution_count": null,
      "outputs": [
        {
          "output_type": "display_data",
          "data": {
            "text/plain": [
              "<IPython.core.display.Javascript object>"
            ],
            "application/javascript": [
              "\n",
              "    async function download(id, filename, size) {\n",
              "      if (!google.colab.kernel.accessAllowed) {\n",
              "        return;\n",
              "      }\n",
              "      const div = document.createElement('div');\n",
              "      const label = document.createElement('label');\n",
              "      label.textContent = `Downloading \"${filename}\": `;\n",
              "      div.appendChild(label);\n",
              "      const progress = document.createElement('progress');\n",
              "      progress.max = size;\n",
              "      div.appendChild(progress);\n",
              "      document.body.appendChild(div);\n",
              "\n",
              "      const buffers = [];\n",
              "      let downloaded = 0;\n",
              "\n",
              "      const channel = await google.colab.kernel.comms.open(id);\n",
              "      // Send a message to notify the kernel that we're ready.\n",
              "      channel.send({})\n",
              "\n",
              "      for await (const message of channel.messages) {\n",
              "        // Send a message to notify the kernel that we're ready.\n",
              "        channel.send({})\n",
              "        if (message.buffers) {\n",
              "          for (const buffer of message.buffers) {\n",
              "            buffers.push(buffer);\n",
              "            downloaded += buffer.byteLength;\n",
              "            progress.value = downloaded;\n",
              "          }\n",
              "        }\n",
              "      }\n",
              "      const blob = new Blob(buffers, {type: 'application/binary'});\n",
              "      const a = document.createElement('a');\n",
              "      a.href = window.URL.createObjectURL(blob);\n",
              "      a.download = filename;\n",
              "      div.appendChild(a);\n",
              "      a.click();\n",
              "      div.remove();\n",
              "    }\n",
              "  "
            ]
          },
          "metadata": {}
        },
        {
          "output_type": "display_data",
          "data": {
            "text/plain": [
              "<IPython.core.display.Javascript object>"
            ],
            "application/javascript": [
              "download(\"download_b03ff866-4ead-4c6a-a238-df63205d22d1\", \"generator_abnormal.pkl\", 19180599)"
            ]
          },
          "metadata": {}
        }
      ]
    },
    {
      "cell_type": "code",
      "source": [
        "seed = tf.random.normal([1, 140, 1])\n",
        "normalized_seed = 2 * seed - 1\n",
        "\n",
        "ecg = model_abnormal(normalized_seed, training=False)\n",
        "generated_ecg_abnormal = ecg.numpy().reshape(140, 1)\n",
        "plt.plot(generated_ecg_abnormal)\n"
      ],
      "metadata": {
        "colab": {
          "base_uri": "https://localhost:8080/",
          "height": 447
        },
        "id": "23QdAa5mBVjY",
        "outputId": "0b448f48-cff8-487c-f0bc-9e209cc40c7d"
      },
      "execution_count": null,
      "outputs": [
        {
          "output_type": "execute_result",
          "data": {
            "text/plain": [
              "[<matplotlib.lines.Line2D at 0x7fe467492620>]"
            ]
          },
          "metadata": {},
          "execution_count": 40
        },
        {
          "output_type": "display_data",
          "data": {
            "text/plain": [
              "<Figure size 640x480 with 1 Axes>"
            ],
            "image/png": "[encoded data removed]"
          },
          "metadata": {}
        }
      ]
    },
    {
      "cell_type": "code",
      "source": [
        "testing(test_dataset_abnormal, model, [1000,140])"
      ],
      "metadata": {
        "id": "IKGYgwq0B-Gn",
        "colab": {
          "base_uri": "https://localhost:8080/"
        },
        "outputId": "a5c43579-5781-4ff0-9c56-2b2e9a5efb7c"
      },
      "execution_count": null,
      "outputs": [
        {
          "output_type": "stream",
          "name": "stdout",
          "text": [
            "prd : mean=185.2717 min=177.0953 max=196.4015\n",
            "rmse: mean=0.3241 min=0.3098 max=0.3436\n"
          ]
        }
      ]
    },
    {
      "cell_type": "code",
      "source": [
        "import matplotlib.pyplot as plt\n",
        "import numpy as np\n",
        "\n",
        "# create subplots with appropriate spacing\n",
        "fig, axs = plt.subplots(nrows=2, ncols=2, tight_layout=True)\n",
        "\n",
        "# plot each signal in a different subplot\n",
        "axs[0, 0].plot(normal_ecg)\n",
        "axs[0, 0].set_title('normal_ecg')\n",
        "\n",
        "axs[0, 1].plot(generated_normal_ecg)\n",
        "axs[0, 1].set_title('generated_normal_ecg')\n",
        "\n",
        "axs[1, 0].plot(abnormal_ecg)\n",
        "axs[1, 0].set_title('abnormal_ecg')\n",
        "\n",
        "axs[1, 1].plot(generated_ecg_abnormal)\n",
        "axs[1, 1].set_title('generated_ecg_abnormal')\n",
        "\n",
        "# add a title for the entire figure\n",
        "fig.suptitle('Four Signals')\n",
        "\n",
        "# display the figure\n",
        "plt.show()"
      ],
      "metadata": {
        "colab": {
          "base_uri": "https://localhost:8080/",
          "height": 492
        },
        "id": "aFCoJ0iLmISx",
        "outputId": "0aee1fef-5525-4d87-8af0-f3e748eae4b2"
      },
      "execution_count": null,
      "outputs": [
        {
          "output_type": "display_data",
          "data": {
            "text/plain": [
              "<Figure size 640x480 with 4 Axes>"
            ],
            "image/png": "[encoded data removed]"
          },
          "metadata": {}
        }
      ]
    },
    {
      "cell_type": "code",
      "source": [],
      "metadata": {
        "id": "UnCNbRRWjX2I"
      },
      "execution_count": null,
      "outputs": []
    }
  ]
}